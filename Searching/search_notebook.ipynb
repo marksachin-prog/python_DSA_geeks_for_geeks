{
 "cells": [
  {
   "cell_type": "markdown",
   "metadata": {},
   "source": [
    "### Linear Search"
   ]
  },
  {
   "cell_type": "code",
   "execution_count": 1,
   "metadata": {},
   "outputs": [],
   "source": [
    "# Given a number x and a list we need to find the number is present in list or not. If not return None.\n",
    "def search(lis,num):\n",
    "    lis_len = len(lis)\n",
    "    for i in range(0,lis_len):\n",
    "        if lis[i] == num:\n",
    "            return i\n",
    "    return None"
   ]
  },
  {
   "cell_type": "code",
   "execution_count": 2,
   "metadata": {},
   "outputs": [
    {
     "name": "stdout",
     "output_type": "stream",
     "text": [
      "4\n"
     ]
    }
   ],
   "source": [
    "# Sample for Linear Search\n",
    "ex_list = [77,64,23,13,93,53]\n",
    "num = 93\n",
    "print(search(ex_list,num))"
   ]
  },
  {
   "cell_type": "code",
   "execution_count": 3,
   "metadata": {},
   "outputs": [
    {
     "name": "stdout",
     "output_type": "stream",
     "text": [
      "None\n"
     ]
    }
   ],
   "source": [
    "# Sample for Linear Search\n",
    "ex_list = [77,64,23,13,93,53]\n",
    "num = 97\n",
    "print(search(ex_list,num))"
   ]
  },
  {
   "cell_type": "markdown",
   "metadata": {},
   "source": [
    "### Binary Search"
   ]
  },
  {
   "cell_type": "code",
   "execution_count": 10,
   "metadata": {},
   "outputs": [],
   "source": [
    "# Here also the list of elements and a num will be given but the list will be having the sorted elements.\n",
    "# we need to find the num in optimal time.\n",
    "def bin_search(lis,num):\n",
    "    first = 0\n",
    "    last = len(lis)-1\n",
    "    while (first<=last):\n",
    "        middle = first+(last-first)//2\n",
    "        if lis[middle] == num:\n",
    "            return middle\n",
    "        elif lis[middle] < num:\n",
    "            first = middle + 1\n",
    "        else:\n",
    "            last = middle - 1\n",
    "            \n",
    "    return None"
   ]
  },
  {
   "cell_type": "code",
   "execution_count": 11,
   "metadata": {},
   "outputs": [
    {
     "name": "stdout",
     "output_type": "stream",
     "text": [
      "None\n"
     ]
    }
   ],
   "source": [
    "#sample test for binary search\n",
    "lis = [11,27,34,49]\n",
    "num = 44\n",
    "print(bin_search(lis,num))"
   ]
  },
  {
   "cell_type": "code",
   "execution_count": 12,
   "metadata": {},
   "outputs": [
    {
     "name": "stdout",
     "output_type": "stream",
     "text": [
      "2\n"
     ]
    }
   ],
   "source": [
    "#sample test for binary search\n",
    "lis = [11,27,34,49]\n",
    "num = 34\n",
    "print(bin_search(lis,num))"
   ]
  },
  {
   "cell_type": "code",
   "execution_count": 16,
   "metadata": {},
   "outputs": [],
   "source": [
    "# Recursive Binary Search\n",
    "def rec_bin_search(lis,num,first,last):\n",
    "    if first<=last:\n",
    "        middle = first+(last-first)//2\n",
    "        if lis[middle] == num:\n",
    "            print(\"{num} found at index {middle}\".format(num=num,middle=middle))\n",
    "            return middle\n",
    "        elif lis[middle] < num:\n",
    "            first = middle + 1\n",
    "            return rec_bin_search(lis,num,first,last)\n",
    "        else:\n",
    "            last = middle - 1\n",
    "            return rec_bin_search(lis,num,first,last)\n",
    "    else:\n",
    "        print(\"Element Not Found\")\n",
    "        return None"
   ]
  },
  {
   "cell_type": "code",
   "execution_count": 17,
   "metadata": {},
   "outputs": [
    {
     "name": "stdout",
     "output_type": "stream",
     "text": [
      "Element Not Found\n"
     ]
    }
   ],
   "source": [
    "#sample test for rec binary search\n",
    "lis = [11,27,34,49]\n",
    "num = 44\n",
    "rec_bin_search(lis,num,0,3)"
   ]
  },
  {
   "cell_type": "code",
   "execution_count": 18,
   "metadata": {},
   "outputs": [
    {
     "name": "stdout",
     "output_type": "stream",
     "text": [
      "34 found at index 2\n"
     ]
    },
    {
     "data": {
      "text/plain": [
       "2"
      ]
     },
     "execution_count": 18,
     "metadata": {},
     "output_type": "execute_result"
    }
   ],
   "source": [
    "#sample test for rec binary search\n",
    "lis = [11,27,34,49]\n",
    "num = 34\n",
    "rec_bin_search(lis,num,0,3)"
   ]
  },
  {
   "cell_type": "code",
   "execution_count": 19,
   "metadata": {},
   "outputs": [],
   "source": [
    "#Index of first occurence in sorted array\n",
    "#Recursive solution\n",
    "def first_occurance_of_num(lis,num,first,last):\n",
    "    if first <= last:\n",
    "        mid = first + (last-first)//2\n",
    "        if lis[mid] > num:\n",
    "            return first_occurance_of_num(lis,num,first,mid-1)\n",
    "        elif lis[mid] < num:\n",
    "            return first_occurance_of_num(lis,num,mid+1,last)\n",
    "        else:\n",
    "            if mid == 0  or lis[mid-1] != lis[mid]:\n",
    "                print(\"{num} found at index {mid}\".format(num = num,mid = mid))\n",
    "                return mid\n",
    "            else:\n",
    "                return first_occurance_of_num(lis,num,first,mid-1)\n",
    "    else:\n",
    "        print(\"{num} not found\".format(num = num))\n",
    "        return None"
   ]
  },
  {
   "cell_type": "code",
   "execution_count": 20,
   "metadata": {},
   "outputs": [
    {
     "name": "stdout",
     "output_type": "stream",
     "text": [
      "20 found at index 4\n"
     ]
    },
    {
     "data": {
      "text/plain": [
       "4"
      ]
     },
     "execution_count": 20,
     "metadata": {},
     "output_type": "execute_result"
    }
   ],
   "source": [
    "lis = [1,10,10,10,20,20,40]\n",
    "num = 20\n",
    "first_occurance_of_num(lis,num,0,6)"
   ]
  },
  {
   "cell_type": "code",
   "execution_count": 26,
   "metadata": {},
   "outputs": [],
   "source": [
    "#Index of last occurence in sorted array\n",
    "#Recursive solution\n",
    "def last_occurance_of_num(lis,num,first,last):\n",
    "    if first <= last:\n",
    "        mid = first + (last-first)//2\n",
    "        if lis[mid] > num:\n",
    "            return last_occurance_of_num(lis,num,first,mid-1)\n",
    "        elif lis[mid] < num:\n",
    "            return last_occurance_of_num(lis,num,mid+1,last)\n",
    "        else:\n",
    "            if mid == len(lis)-1  or lis[mid+1] != lis[mid]:\n",
    "                print(\"{num} found at index {mid}\".format(num = num,mid = mid))\n",
    "                return mid\n",
    "            else:\n",
    "                return last_occurance_of_num(lis,num,mid+1,last)\n",
    "    else:\n",
    "        print(\"{num} not found\".format(num = num))\n",
    "        return None "
   ]
  },
  {
   "cell_type": "code",
   "execution_count": 30,
   "metadata": {},
   "outputs": [
    {
     "name": "stdout",
     "output_type": "stream",
     "text": [
      "11 not found\n"
     ]
    }
   ],
   "source": [
    "lis = [10,15,20,20,40,40]\n",
    "num = 11\n",
    "last_occurance_of_num(lis,num,0,5)"
   ]
  },
  {
   "cell_type": "code",
   "execution_count": 31,
   "metadata": {},
   "outputs": [],
   "source": [
    "#first_occurance_iterative function\n",
    "def first_occurance(lis,num):\n",
    "    first = 0\n",
    "    last = len(lis) - 1\n",
    "    while(first<=last):\n",
    "        mid = first + (last - first)//2\n",
    "        if lis[mid] > num:\n",
    "            last = mid-1\n",
    "        elif lis[mid] < num:\n",
    "            first = mid+1\n",
    "        else:\n",
    "            if mid == 0 or lis[mid-1] != lis[mid]:\n",
    "                return mid\n",
    "            else:\n",
    "                last = mid - 1\n",
    "    return None"
   ]
  },
  {
   "cell_type": "code",
   "execution_count": 32,
   "metadata": {},
   "outputs": [
    {
     "name": "stdout",
     "output_type": "stream",
     "text": [
      "3\n"
     ]
    }
   ],
   "source": [
    "#test_first_occurance\n",
    "lis = [1,10,10,20,20,20,30]\n",
    "num = 20\n",
    "print(first_occurance(lis,num))"
   ]
  },
  {
   "cell_type": "code",
   "execution_count": 33,
   "metadata": {},
   "outputs": [
    {
     "name": "stdout",
     "output_type": "stream",
     "text": [
      "1\n"
     ]
    }
   ],
   "source": [
    "#test_first_occurance\n",
    "lis = [1,10,10,20,20,20,30]\n",
    "num = 10\n",
    "print(first_occurance(lis,num))"
   ]
  },
  {
   "cell_type": "code",
   "execution_count": 34,
   "metadata": {},
   "outputs": [
    {
     "name": "stdout",
     "output_type": "stream",
     "text": [
      "6\n"
     ]
    }
   ],
   "source": [
    "#test_first_occurance\n",
    "lis = [1,10,10,20,20,20,30]\n",
    "num = 30\n",
    "print(first_occurance(lis,num))"
   ]
  },
  {
   "cell_type": "code",
   "execution_count": 35,
   "metadata": {},
   "outputs": [
    {
     "name": "stdout",
     "output_type": "stream",
     "text": [
      "0\n"
     ]
    }
   ],
   "source": [
    "#test_first_occurance\n",
    "lis = [1,10,10,20,20,20,30]\n",
    "num = 1\n",
    "print(first_occurance(lis,num))"
   ]
  },
  {
   "cell_type": "code",
   "execution_count": 36,
   "metadata": {},
   "outputs": [
    {
     "name": "stdout",
     "output_type": "stream",
     "text": [
      "None\n"
     ]
    }
   ],
   "source": [
    "#test_first_occurance\n",
    "lis = [1,10,10,20,20,20,30]\n",
    "num = 35\n",
    "print(first_occurance(lis,num))"
   ]
  },
  {
   "cell_type": "code",
   "execution_count": 39,
   "metadata": {},
   "outputs": [],
   "source": [
    "#first_occurance_iterative function\n",
    "def last_occurance(lis,num):\n",
    "    first = 0\n",
    "    last = len(lis) - 1\n",
    "    while(first<=last):\n",
    "        mid = first + (last - first)//2\n",
    "        if lis[mid] > num:\n",
    "            last = mid-1\n",
    "        elif lis[mid] < num:\n",
    "            first = mid+1\n",
    "        else:\n",
    "            if mid == len(lis)-1 or lis[mid+1] != lis[mid]:\n",
    "                return mid\n",
    "            else:\n",
    "                first = mid +1 \n",
    "    return None"
   ]
  },
  {
   "cell_type": "code",
   "execution_count": 41,
   "metadata": {},
   "outputs": [
    {
     "name": "stdout",
     "output_type": "stream",
     "text": [
      "5\n"
     ]
    }
   ],
   "source": [
    "#test_last_occurance\n",
    "lis = [1,10,10,20,20,20,30]\n",
    "num = 20\n",
    "print(last_occurance(lis,num))"
   ]
  },
  {
   "cell_type": "code",
   "execution_count": 42,
   "metadata": {},
   "outputs": [
    {
     "name": "stdout",
     "output_type": "stream",
     "text": [
      "2\n"
     ]
    }
   ],
   "source": [
    "#test_last_occurance\n",
    "lis = [1,10,10,20,20,20,30]\n",
    "num = 10\n",
    "print(last_occurance(lis,num))"
   ]
  },
  {
   "cell_type": "code",
   "execution_count": 43,
   "metadata": {},
   "outputs": [
    {
     "name": "stdout",
     "output_type": "stream",
     "text": [
      "6\n"
     ]
    }
   ],
   "source": [
    "#test_last_occurance\n",
    "lis = [1,10,10,20,20,20,30]\n",
    "num = 30\n",
    "print(last_occurance(lis,num))"
   ]
  },
  {
   "cell_type": "code",
   "execution_count": 44,
   "metadata": {},
   "outputs": [
    {
     "name": "stdout",
     "output_type": "stream",
     "text": [
      "None\n"
     ]
    }
   ],
   "source": [
    "#test_last_occurance\n",
    "lis = [1,10,10,20,20,20,30]\n",
    "num = 5\n",
    "print(last_occurance(lis,num))"
   ]
  },
  {
   "cell_type": "code",
   "execution_count": 45,
   "metadata": {},
   "outputs": [],
   "source": [
    "def count_occurances(lis,num):\n",
    "    first_occur = first_occurance(lis,num)\n",
    "    if first_occur == None:\n",
    "        return None\n",
    "    else:\n",
    "        last_occur = last_occurance(lis,num)\n",
    "        return (last_occur - first_occur)+ 1"
   ]
  },
  {
   "cell_type": "code",
   "execution_count": 46,
   "metadata": {},
   "outputs": [
    {
     "data": {
      "text/plain": [
       "3"
      ]
     },
     "execution_count": 46,
     "metadata": {},
     "output_type": "execute_result"
    }
   ],
   "source": [
    "#test_count_occurance\n",
    "lis = [1,10,10,20,30,30,30]\n",
    "num = 30\n",
    "count_occurances(lis,num)"
   ]
  },
  {
   "cell_type": "code",
   "execution_count": 47,
   "metadata": {},
   "outputs": [
    {
     "data": {
      "text/plain": [
       "2"
      ]
     },
     "execution_count": 47,
     "metadata": {},
     "output_type": "execute_result"
    }
   ],
   "source": [
    "#test_count_occurance\n",
    "lis = [1,10,10,20,30,30,30]\n",
    "num = 10\n",
    "count_occurances(lis,num)"
   ]
  },
  {
   "cell_type": "code",
   "execution_count": 48,
   "metadata": {},
   "outputs": [
    {
     "data": {
      "text/plain": [
       "1"
      ]
     },
     "execution_count": 48,
     "metadata": {},
     "output_type": "execute_result"
    }
   ],
   "source": [
    "#test_count_occurance\n",
    "lis = [1,10,10,20,30,30,30]\n",
    "num = 1\n",
    "count_occurances(lis,num)"
   ]
  },
  {
   "cell_type": "code",
   "execution_count": 49,
   "metadata": {},
   "outputs": [
    {
     "data": {
      "text/plain": [
       "1"
      ]
     },
     "execution_count": 49,
     "metadata": {},
     "output_type": "execute_result"
    }
   ],
   "source": [
    "#test_count_occurance\n",
    "lis = [1,10,10,20,30,30,30]\n",
    "num = 20\n",
    "count_occurances(lis,num)"
   ]
  },
  {
   "cell_type": "code",
   "execution_count": 51,
   "metadata": {},
   "outputs": [
    {
     "name": "stdout",
     "output_type": "stream",
     "text": [
      "None\n"
     ]
    }
   ],
   "source": [
    "#test_count_occurance\n",
    "lis = [1,10,10,20,30,30,30]\n",
    "num = 35\n",
    "print(count_occurances(lis,num))"
   ]
  },
  {
   "cell_type": "code",
   "execution_count": 52,
   "metadata": {},
   "outputs": [
    {
     "data": {
      "text/plain": [
       "4"
      ]
     },
     "execution_count": 52,
     "metadata": {},
     "output_type": "execute_result"
    }
   ],
   "source": [
    "#Count 1's in sorted binary list\n",
    "lis = [0,0,0,1,1,1,1]\n",
    "num = 1\n",
    "count_occurances(lis,num)"
   ]
  },
  {
   "cell_type": "code",
   "execution_count": null,
   "metadata": {},
   "outputs": [],
   "source": []
  }
 ],
 "metadata": {
  "kernelspec": {
   "display_name": "Python 3.9.13 ('base')",
   "language": "python",
   "name": "python3"
  },
  "language_info": {
   "codemirror_mode": {
    "name": "ipython",
    "version": 3
   },
   "file_extension": ".py",
   "mimetype": "text/x-python",
   "name": "python",
   "nbconvert_exporter": "python",
   "pygments_lexer": "ipython3",
   "version": "3.9.13"
  },
  "orig_nbformat": 4,
  "vscode": {
   "interpreter": {
    "hash": "aae5d867c4c404151ebc0bd587d921527e03147b36ee48f912993f6effdefbc2"
   }
  }
 },
 "nbformat": 4,
 "nbformat_minor": 2
}
